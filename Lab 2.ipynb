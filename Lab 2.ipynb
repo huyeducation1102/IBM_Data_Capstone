{
 "cells": [
  {
   "cell_type": "code",
   "execution_count": 63,
   "id": "e0f4c859-f56d-472d-b9b1-6574f589864b",
   "metadata": {},
   "outputs": [
    {
     "name": "stdout",
     "output_type": "stream",
     "text": [
      "Requirement already satisfied: flask in /Library/Frameworks/Python.framework/Versions/3.10/lib/python3.10/site-packages (3.1.1)\n",
      "Requirement already satisfied: markupsafe>=2.1.1 in /Library/Frameworks/Python.framework/Versions/3.10/lib/python3.10/site-packages (from flask) (3.0.2)\n",
      "Requirement already satisfied: blinker>=1.9.0 in /Library/Frameworks/Python.framework/Versions/3.10/lib/python3.10/site-packages (from flask) (1.9.0)\n",
      "Requirement already satisfied: click>=8.1.3 in /Library/Frameworks/Python.framework/Versions/3.10/lib/python3.10/site-packages (from flask) (8.2.1)\n",
      "Requirement already satisfied: itsdangerous>=2.2.0 in /Library/Frameworks/Python.framework/Versions/3.10/lib/python3.10/site-packages (from flask) (2.2.0)\n",
      "Requirement already satisfied: werkzeug>=3.1.0 in /Library/Frameworks/Python.framework/Versions/3.10/lib/python3.10/site-packages (from flask) (3.1.3)\n",
      "Requirement already satisfied: jinja2>=3.1.2 in /Library/Frameworks/Python.framework/Versions/3.10/lib/python3.10/site-packages (from flask) (3.1.6)\n",
      "\n",
      "\u001b[1m[\u001b[0m\u001b[34;49mnotice\u001b[0m\u001b[1;39;49m]\u001b[0m\u001b[39;49m A new release of pip available: \u001b[0m\u001b[31;49m22.2.2\u001b[0m\u001b[39;49m -> \u001b[0m\u001b[32;49m25.1.1\u001b[0m\n",
      "\u001b[1m[\u001b[0m\u001b[34;49mnotice\u001b[0m\u001b[1;39;49m]\u001b[0m\u001b[39;49m To update, run: \u001b[0m\u001b[32;49mpip install --upgrade pip\u001b[0m\n"
     ]
    }
   ],
   "source": [
    "!pip install flask"
   ]
  },
  {
   "cell_type": "code",
   "execution_count": 64,
   "id": "991b4a87-7eff-4181-96b1-2972ad6caa58",
   "metadata": {},
   "outputs": [
    {
     "name": "stdout",
     "output_type": "stream",
     "text": [
      "zsh:1: command not found: wget\n"
     ]
    }
   ],
   "source": [
    "!wget  https://cf-courses-data.s3.us.cloud-object-storage.appdomain.cloud/IBM-DA0321EN-SkillsNetwork/labs/module%201/Accessing%20Data%20Using%20APIs/jobs.json"
   ]
  },
  {
   "cell_type": "code",
   "execution_count": 65,
   "id": "2461645c-ba0b-4fbc-9498-6834be6c63fd",
   "metadata": {},
   "outputs": [
    {
     "ename": "FileNotFoundError",
     "evalue": "[Errno 2] No such file or directory: 'jobs.json'",
     "output_type": "error",
     "traceback": [
      "\u001b[0;31m---------------------------------------------------------------------------\u001b[0m",
      "\u001b[0;31mFileNotFoundError\u001b[0m                         Traceback (most recent call last)",
      "Cell \u001b[0;32mIn[65], line 49\u001b[0m\n\u001b[1;32m     47\u001b[0m \u001b[38;5;28;01mimport\u001b[39;00m\u001b[38;5;250m \u001b[39m\u001b[38;5;21;01mjson\u001b[39;00m\n\u001b[1;32m     48\u001b[0m data \u001b[38;5;241m=\u001b[39m \u001b[38;5;28;01mNone\u001b[39;00m\n\u001b[0;32m---> 49\u001b[0m \u001b[38;5;28;01mwith\u001b[39;00m \u001b[38;5;28;43mopen\u001b[39;49m\u001b[43m(\u001b[49m\u001b[38;5;124;43m'\u001b[39;49m\u001b[38;5;124;43mjobs.json\u001b[39;49m\u001b[38;5;124;43m'\u001b[39;49m\u001b[43m,\u001b[49m\u001b[43mencoding\u001b[49m\u001b[38;5;241;43m=\u001b[39;49m\u001b[38;5;124;43m'\u001b[39;49m\u001b[38;5;124;43mutf-8\u001b[39;49m\u001b[38;5;124;43m'\u001b[39;49m\u001b[43m)\u001b[49m \u001b[38;5;28;01mas\u001b[39;00m f:\n\u001b[1;32m     50\u001b[0m     \u001b[38;5;66;03m# returns JSON object as\u001b[39;00m\n\u001b[1;32m     51\u001b[0m     \u001b[38;5;66;03m# a dictionary\u001b[39;00m\n\u001b[1;32m     52\u001b[0m     data \u001b[38;5;241m=\u001b[39m json\u001b[38;5;241m.\u001b[39mload(f)\n\u001b[1;32m     56\u001b[0m \u001b[38;5;129m@app\u001b[39m\u001b[38;5;241m.\u001b[39mroute(\u001b[38;5;124m'\u001b[39m\u001b[38;5;124m/\u001b[39m\u001b[38;5;124m'\u001b[39m, methods\u001b[38;5;241m=\u001b[39m[\u001b[38;5;124m'\u001b[39m\u001b[38;5;124mGET\u001b[39m\u001b[38;5;124m'\u001b[39m])\n\u001b[1;32m     57\u001b[0m \u001b[38;5;28;01mdef\u001b[39;00m\u001b[38;5;250m \u001b[39m\u001b[38;5;21mhome\u001b[39m():\n",
      "File \u001b[0;32m/Library/Frameworks/Python.framework/Versions/3.10/lib/python3.10/site-packages/IPython/core/interactiveshell.py:324\u001b[0m, in \u001b[0;36m_modified_open\u001b[0;34m(file, *args, **kwargs)\u001b[0m\n\u001b[1;32m    317\u001b[0m \u001b[38;5;28;01mif\u001b[39;00m file \u001b[38;5;129;01min\u001b[39;00m {\u001b[38;5;241m0\u001b[39m, \u001b[38;5;241m1\u001b[39m, \u001b[38;5;241m2\u001b[39m}:\n\u001b[1;32m    318\u001b[0m     \u001b[38;5;28;01mraise\u001b[39;00m \u001b[38;5;167;01mValueError\u001b[39;00m(\n\u001b[1;32m    319\u001b[0m         \u001b[38;5;124mf\u001b[39m\u001b[38;5;124m\"\u001b[39m\u001b[38;5;124mIPython won\u001b[39m\u001b[38;5;124m'\u001b[39m\u001b[38;5;124mt let you open fd=\u001b[39m\u001b[38;5;132;01m{\u001b[39;00mfile\u001b[38;5;132;01m}\u001b[39;00m\u001b[38;5;124m by default \u001b[39m\u001b[38;5;124m\"\u001b[39m\n\u001b[1;32m    320\u001b[0m         \u001b[38;5;124m\"\u001b[39m\u001b[38;5;124mas it is likely to crash IPython. If you know what you are doing, \u001b[39m\u001b[38;5;124m\"\u001b[39m\n\u001b[1;32m    321\u001b[0m         \u001b[38;5;124m\"\u001b[39m\u001b[38;5;124myou can use builtins\u001b[39m\u001b[38;5;124m'\u001b[39m\u001b[38;5;124m open.\u001b[39m\u001b[38;5;124m\"\u001b[39m\n\u001b[1;32m    322\u001b[0m     )\n\u001b[0;32m--> 324\u001b[0m \u001b[38;5;28;01mreturn\u001b[39;00m \u001b[43mio_open\u001b[49m\u001b[43m(\u001b[49m\u001b[43mfile\u001b[49m\u001b[43m,\u001b[49m\u001b[43m \u001b[49m\u001b[38;5;241;43m*\u001b[39;49m\u001b[43margs\u001b[49m\u001b[43m,\u001b[49m\u001b[43m \u001b[49m\u001b[38;5;241;43m*\u001b[39;49m\u001b[38;5;241;43m*\u001b[39;49m\u001b[43mkwargs\u001b[49m\u001b[43m)\u001b[49m\n",
      "\u001b[0;31mFileNotFoundError\u001b[0m: [Errno 2] No such file or directory: 'jobs.json'"
     ]
    }
   ],
   "source": [
    "import flask\n",
    "from flask import request, jsonify\n",
    "import requests\n",
    "import re\n",
    "\n",
    "def get_data(key,value,current):\n",
    "    results = list()\n",
    "    pattern_dict = {\n",
    "        'C'      : '(C)',\n",
    "        'C++'    : '(C\\+\\+)',\n",
    "        'Java'   :'(Java)',\n",
    "        'C#'     : '(C\\#)',\n",
    "        'Python' :'(Python)',\n",
    "        'Scala' : '(Scala)',\n",
    "        'Oracle' : '(Oracle)',\n",
    "        'SQL Server': '(SQL Server)',\n",
    "        'MySQL Server' :'(MySQL Server)',\n",
    "        'PostgreSQL':'(PostgreSQL)',\n",
    "        'MongoDB'    : '(MongoDB)',\n",
    "        'JavaScript'    : '(JavaScript)',\n",
    "        'Los Angeles' :'(Los Angeles)',\n",
    "        'New York':'(New York)',\n",
    "        'San Francisco':'(San Francisco)',\n",
    "        'Washington DC':'(Washington DC)',\n",
    "        'Seattle':'(Seattle)',\n",
    "        'Austin':'(Austin)',\n",
    "        'Detroit':'(Detroit)',\n",
    "        \n",
    "        \n",
    "        \n",
    "        \n",
    "        \n",
    "    }\n",
    "    for rec in current:\n",
    "        print(rec[key])\n",
    "        print(type(rec[key]))\n",
    "        print(rec[key].find(value))\n",
    "        #if rec[key].find(value) != -1:\n",
    "        import re\n",
    "        #reex_str = \"\"\"(C)|(C\\+\\+)|(JavaScript)|(Java)|(C\\#)|(Python)|(Scala)|(Oracle)|(SQL Server)|(MySQL Server)|(PostgreSQL)|(MongoDB)\"\"\"\n",
    "        if re.search(pattern_dict[value],rec[key]) != None:\n",
    "            results.append(rec)\n",
    "    return results\n",
    "\n",
    "app = flask.Flask(__name__)\n",
    "\n",
    "import json\n",
    "data = None\n",
    "with open('jobs.json',encoding='utf-8') as f:\n",
    "    # returns JSON object as\n",
    "    # a dictionary\n",
    "    data = json.load(f)\n",
    "    \n",
    "    \n",
    "\n",
    "@app.route('/', methods=['GET'])\n",
    "def home():\n",
    "    \n",
    "    return '''<h1>Welcome to flask JOB search API</p>'''\n",
    "\n",
    "\n",
    "@app.route('/data/all', methods=['GET'])\n",
    "def api_all():\n",
    "    return jsonify(data)\n",
    "\n",
    "\n",
    "@app.route('/data', methods=['GET'])\n",
    "def api_id():\n",
    "    # Check if keys such as Job Title,KeySkills, Role Category and others  are provided as part of the URL.\n",
    "    #  Assign the keys to the corresponding variables..\n",
    "    # If no key is provided, display an error in the browser.\n",
    "    res = None\n",
    "    for req in request.args:\n",
    "        \n",
    "        if req == 'Job Title':\n",
    "            key = 'Job Title'\n",
    "        elif req == 'Job Experience Required' :\n",
    "            key='Job Experience Required'\n",
    "        elif req == 'Key Skills' :\n",
    "            key='Key Skills'\n",
    "            \n",
    "        elif req == 'Role Category' :\n",
    "            key='Role Category'\n",
    "        elif req == 'Location' :\n",
    "            key='Location'\n",
    "        \n",
    "        elif req == 'Functional Area' :\n",
    "            key='Functional Area'\n",
    "        \n",
    "        elif req == 'Industry' :\n",
    "            key='Industry'\n",
    "        elif req == 'Role' :\n",
    "            key='Role'\n",
    "        elif req==\"id\":\n",
    "             key=\"id\"\n",
    "        else:\n",
    "            pass\n",
    "    \n",
    "        value = request.args[key]\n",
    "        if (res==None):\n",
    "            res = get_data(key,value,data)\n",
    "        else:\n",
    "            res = get_data(key,value,res)\n",
    "\n",
    "    # Use the jsonify function from Flask to convert our list of\n",
    "    # Python dictionaries to the JSON format.\n",
    "    return jsonify(res)\n",
    "\n",
    "app.run()"
   ]
  },
  {
   "cell_type": "code",
   "execution_count": null,
   "id": "694b7de7-3480-48b6-acf9-ffb8a8efcb40",
   "metadata": {},
   "outputs": [],
   "source": [
    "#Import required libraries\n",
    "import pandas as pd\n",
    "import requests\n",
    "import json\n",
    "print(\"Done!\")"
   ]
  },
  {
   "cell_type": "code",
   "execution_count": null,
   "id": "16ce0376-0967-46c9-974f-166380c2b591",
   "metadata": {},
   "outputs": [],
   "source": [
    "url = \"https://cf-courses-data.s3.us.cloud-object-storage.appdomain.cloud/IBM-DA0321EN-SkillsNetwork/labs/module%201/Accessing%20Data%20Using%20APIs/jobs.json####\"\n",
    "resp = requests.get(url)"
   ]
  },
  {
   "cell_type": "code",
   "execution_count": null,
   "id": "e83e0860-d1e8-48f9-bada-3701ecff7214",
   "metadata": {},
   "outputs": [],
   "source": [
    "resp.headers['Content-Type']"
   ]
  },
  {
   "cell_type": "code",
   "execution_count": null,
   "id": "83025835-6d52-45e8-b98b-99dc3cb26a3c",
   "metadata": {},
   "outputs": [],
   "source": [
    "import requests\n",
    "\n",
    "api_url = \"https://cf-courses-data.s3.us.cloud-object-storage.appdomain.cloud/IBM-DA0321EN-SkillsNetwork/labs/module%201/Accessing%20Data%20Using%20APIs/jobs.json\"\n",
    "\n",
    "def get_number_of_jobs_T(technology):\n",
    "    response = requests.get(api_url)\n",
    "    data = response.json()  # This is a list, not a dict with 'jobs'\n",
    "    \n",
    "    number_of_jobs = 0\n",
    "    for job in data:\n",
    "        if technology.lower() in job['Job Title'].lower():\n",
    "            number_of_jobs += 1\n",
    "\n",
    "    return technology, number_of_jobs\n",
    "\n",
    "print(\"Done!\")\n",
    "print(get_number_of_jobs_T(\"Python\"))"
   ]
  },
  {
   "cell_type": "code",
   "execution_count": null,
   "id": "849e8fcd-bc8a-48bd-bcb4-6e3229bccbd9",
   "metadata": {},
   "outputs": [],
   "source": [
    "print(get_number_of_jobs_T(\"Python\"))"
   ]
  },
  {
   "cell_type": "code",
   "execution_count": null,
   "id": "dd9dd097-c1a6-4485-9ade-bd1e1bf1b043",
   "metadata": {},
   "outputs": [],
   "source": [
    "#Write a function to find number of jobs in US for a location of your choice\n",
    "def get_number_of_jobs_L(location):\n",
    "    response = requests.get(api_url)\n",
    "    data = response.json()\n",
    "\n",
    "    number_of_jobs = 0\n",
    "    for job in data:\n",
    "        if location.lower() in job['Location'].lower(): \n",
    "            number_of_jobs += 1\n",
    "            \n",
    "    return location, number_of_jobs\n",
    "print(\"Done!\")"
   ]
  },
  {
   "cell_type": "code",
   "execution_count": null,
   "id": "feb16194-4537-459d-a689-d0002851147d",
   "metadata": {},
   "outputs": [],
   "source": [
    "get_number_of_jobs_L(\"Los Angeles\")"
   ]
  },
  {
   "cell_type": "code",
   "execution_count": null,
   "id": "1eb71f72-c1b8-43dc-b144-90231980e3e6",
   "metadata": {},
   "outputs": [],
   "source": [
    "#Call the API for all the given technologies above and write the results in an excel spreadsheet.\n",
    "technologies = ['C', 'C++', 'Java', 'C#', 'Python', 'Scala', 'Oracle', 'SQL Server', 'MySQL Server', 'PostgreSQL','MongoDB','JavaScript'] "
   ]
  },
  {
   "cell_type": "code",
   "execution_count": null,
   "id": "eb8249ce-9177-45d4-857a-6e292432bc01",
   "metadata": {},
   "outputs": [],
   "source": [
    "#Import libraries required to create excel spreadsheet\n",
    "from openpyxl import Workbook"
   ]
  },
  {
   "cell_type": "code",
   "execution_count": null,
   "id": "79675e49-9206-4b10-9815-934ae97317bd",
   "metadata": {},
   "outputs": [],
   "source": [
    "#Create a workbook and select the active worksheet\n",
    "wb = Workbook()\n",
    "ws = wb.active\n",
    "ws.append(technologies)"
   ]
  },
  {
   "cell_type": "code",
   "execution_count": null,
   "id": "a0afd65d-00d5-43c0-a4c7-63fdf10020e5",
   "metadata": {},
   "outputs": [],
   "source": [
    "#Find the number of jobs postings for each of the technology in the above list. Write the technology name and the number of jobs postings into the excel spreadsheet.\n",
    "def get_number_of_jobs_T(technology):\n",
    "    response = requests.get(api_url)\n",
    "    data = response.json()  # This is a list, not a dict with 'jobs'\n",
    "    \n",
    "    number_of_jobs = 0\n",
    "    for job in data:\n",
    "        if technology.lower() in job['Job Title'].lower():\n",
    "            number_of_jobs += 1\n",
    "\n",
    "    return technology, number_of_jobs\n",
    "\n",
    "print(\"Done!\")\n",
    "print(get_number_of_jobs_T(\"Python\"))"
   ]
  },
  {
   "cell_type": "code",
   "execution_count": null,
   "id": "3ce8c58e-56a2-4ae4-a8dc-bf1b18a5408b",
   "metadata": {},
   "outputs": [],
   "source": [
    "results = []\n",
    "for tech in technologies: \n",
    "    tech_name, job_count = get_number_of_jobs_T(tech)\n",
    "    results.append({'Technology': tech_name, 'Number of Jobs': job_count})"
   ]
  },
  {
   "cell_type": "code",
   "execution_count": 61,
   "id": "df72b044-1d46-46ca-9e4f-afc21a20ecdd",
   "metadata": {},
   "outputs": [
    {
     "name": "stdout",
     "output_type": "stream",
     "text": [
      "      Technology  Number of Jobs\n",
      "0              C           18323\n",
      "1            C++              80\n",
      "2           Java             980\n",
      "3             C#             117\n",
      "4         Python             191\n",
      "5          Scala              20\n",
      "6         Oracle             206\n",
      "7     SQL Server              41\n",
      "8   MySQL Server               0\n",
      "9     PostgreSQL               3\n",
      "10       MongoDB              17\n",
      "11    JavaScript             111\n"
     ]
    }
   ],
   "source": [
    "df = pd.DataFrame(results)\n",
    "print(df)"
   ]
  },
  {
   "cell_type": "code",
   "execution_count": 66,
   "id": "4a61f78d-148b-4eb8-8669-ae7b8ce5df3d",
   "metadata": {},
   "outputs": [
    {
     "name": "stdout",
     "output_type": "stream",
     "text": [
      "Done! Results saved to 'job_counts_by_technology.xlsx'.\n"
     ]
    }
   ],
   "source": [
    "df.to_excel(\"job_counts_by_technology.xlsx\", index=False)\n",
    "print(\"Done! Results saved to 'job_counts_by_technology.xlsx'.\")"
   ]
  },
  {
   "cell_type": "code",
   "execution_count": 74,
   "id": "664853fa-26d5-4c89-9735-6ea5d385217a",
   "metadata": {},
   "outputs": [],
   "source": [
    "#Call the API for all the given technologies above and write the results in an excel spreadsheet.\n",
    "cities = ['Los Angeles', 'New York', 'San Francisco', 'Washington DC', 'Seattle', 'Austin', 'Detroit'] \n",
    "wb = Workbook()\n",
    "ws = wb.active\n",
    "ws.append(cities)\n",
    "\n",
    "results1 = []\n",
    "for city in cities: \n",
    "    city_name, job_count = get_number_of_jobs_L(city)\n",
    "    results1.append({'Technology': city_name, 'Number of Jobs': job_count})"
   ]
  },
  {
   "cell_type": "code",
   "execution_count": 75,
   "id": "f7c6cd6a-cc96-4098-9a23-e4bc34171d67",
   "metadata": {},
   "outputs": [
    {
     "name": "stdout",
     "output_type": "stream",
     "text": [
      "      Technology  Number of Jobs\n",
      "0    Los Angeles             640\n",
      "1       New York            3226\n",
      "2  San Francisco             435\n",
      "3  Washington DC            5316\n",
      "4        Seattle            3375\n",
      "5         Austin             434\n",
      "6        Detroit            3945\n"
     ]
    }
   ],
   "source": [
    "df1 = pd.DataFrame(results1)\n",
    "print(df1)"
   ]
  },
  {
   "cell_type": "code",
   "execution_count": 76,
   "id": "1a5393ad-6aa8-4113-bfd4-df80acfedc39",
   "metadata": {},
   "outputs": [
    {
     "name": "stdout",
     "output_type": "stream",
     "text": [
      "Done! Results saved to 'job_counts_by_cities'.\n"
     ]
    }
   ],
   "source": [
    "df1.to_excel(\"job_counts_by_cities.xlsx\", index=False)\n",
    "print(\"Done! Results saved to 'job_counts_by_cities'.\")"
   ]
  },
  {
   "cell_type": "code",
   "execution_count": null,
   "id": "225723ba-1751-4875-ab78-b721993ba13e",
   "metadata": {},
   "outputs": [],
   "source": []
  }
 ],
 "metadata": {
  "kernelspec": {
   "display_name": "Python 3 (ipykernel)",
   "language": "python",
   "name": "python3"
  },
  "language_info": {
   "codemirror_mode": {
    "name": "ipython",
    "version": 3
   },
   "file_extension": ".py",
   "mimetype": "text/x-python",
   "name": "python",
   "nbconvert_exporter": "python",
   "pygments_lexer": "ipython3",
   "version": "3.10.5"
  }
 },
 "nbformat": 4,
 "nbformat_minor": 5
}
